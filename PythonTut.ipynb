{
 "cells": [
  {
   "cell_type": "code",
   "execution_count": 13,
   "id": "7b722f58",
   "metadata": {},
   "outputs": [
    {
     "name": "stdout",
     "output_type": "stream",
     "text": [
      "Travis Scott\n",
      "['Drake', 'Frank Ocean', 'TheWeeknd']\n"
     ]
    }
   ],
   "source": [
    "artists = ['Drake', 'Frank Ocean', 'TheWeeknd', 'Travis Scott']\n",
    "popped =  artists.pop()\n",
    "print(popped)\n",
    "print(artists)"
   ]
  },
  {
   "cell_type": "code",
   "execution_count": 14,
   "id": "2f47700e",
   "metadata": {},
   "outputs": [
    {
     "name": "stdout",
     "output_type": "stream",
     "text": [
      "['Drake', 'Frank Ocean', 'TheWeeknd', 'Travis Scott', 'Polo G', 'ASAP Rocky', 'J Cole']\n"
     ]
    }
   ],
   "source": [
    "artists = ['Drake', 'Frank Ocean', 'TheWeeknd', 'Travis Scott']\n",
    "artists_2 = ['Polo G','ASAP Rocky', 'J Cole']\n",
    "artists.extend( artists_2)\n",
    "\n",
    "print(artists\n",
    "     )"
   ]
  },
  {
   "cell_type": "code",
   "execution_count": 15,
   "id": "38c09613",
   "metadata": {},
   "outputs": [
    {
     "name": "stdout",
     "output_type": "stream",
     "text": [
      "['Travis Scott', 'TheWeeknd', 'Frank Ocean', 'Drake']\n"
     ]
    }
   ],
   "source": [
    "artists = ['Drake', 'Frank Ocean', 'TheWeeknd', 'Travis Scott']\n",
    "artists.reverse()\n",
    "print(artists)"
   ]
  },
  {
   "cell_type": "code",
   "execution_count": 18,
   "id": "adcf48dd",
   "metadata": {},
   "outputs": [
    {
     "name": "stdout",
     "output_type": "stream",
     "text": [
      "['Drake', 'Frank Ocean', 'TheWeeknd', 'Travis Scott']\n"
     ]
    }
   ],
   "source": [
    "artists = ['Drake', 'Frank Ocean', 'TheWeeknd', 'Travis Scott']\n",
    "artists.sort()\n",
    "print(artists) #sorted in alphabetical order"
   ]
  },
  {
   "cell_type": "code",
   "execution_count": 21,
   "id": "0176c7b6",
   "metadata": {},
   "outputs": [
    {
     "name": "stdout",
     "output_type": "stream",
     "text": [
      "['Drake', 'Frank Ocean', 'TheWeeknd', 'Travis Scott']\n",
      "[1, 2, 3, 5, 7]\n"
     ]
    }
   ],
   "source": [
    "artists = ['Drake', 'Frank Ocean', 'TheWeeknd', 'Travis Scott']\n",
    "nums= [1,3,2,7,5]\n",
    "nums.sort()\n",
    "artists.sort()\n",
    "print(artists)#sorted in alphabetical order\n",
    "print(nums)"
   ]
  },
  {
   "cell_type": "code",
   "execution_count": null,
   "id": "7d1e2efa",
   "metadata": {},
   "outputs": [],
   "source": []
  },
  {
   "cell_type": "code",
   "execution_count": null,
   "id": "04414263",
   "metadata": {},
   "outputs": [],
   "source": []
  }
 ],
 "metadata": {
  "kernelspec": {
   "display_name": "Python 3",
   "language": "python",
   "name": "python3"
  },
  "language_info": {
   "codemirror_mode": {
    "name": "ipython",
    "version": 3
   },
   "file_extension": ".py",
   "mimetype": "text/x-python",
   "name": "python",
   "nbconvert_exporter": "python",
   "pygments_lexer": "ipython3",
   "version": "3.9.5"
  }
 },
 "nbformat": 4,
 "nbformat_minor": 5
}
